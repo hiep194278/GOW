{
 "cells": [
  {
   "cell_type": "code",
   "execution_count": 1,
   "metadata": {},
   "outputs": [],
   "source": [
    "import numpy as np\n",
    "from sklearn import neighbors\n",
    "import ot\n",
    "import joblib\n",
    "import jpype\n",
    "import jpype.imports\n",
    "from jpype.types import *\n",
    "jpype.startJVM(classpath=['../GOW.jar'])"
   ]
  },
  {
   "cell_type": "code",
   "execution_count": 2,
   "metadata": {},
   "outputs": [
    {
     "name": "stdout",
     "output_type": "stream",
     "text": [
      "Train:  330\n",
      "Test:  110\n"
     ]
    }
   ],
   "source": [
    "X_train = joblib.load('../Datasets/SpokenArabicDigit/Cut/X_train.pkl')\n",
    "X_test = joblib.load('../Datasets/SpokenArabicDigit/Cut/X_test.pkl')\n",
    "y_train = joblib.load('../Datasets/SpokenArabicDigit/Cut/y_train.pkl')\n",
    "y_test = joblib.load('../Datasets/SpokenArabicDigit/Cut/y_test.pkl')\n",
    "\n",
    "print(\"Train: \", len(X_train))\n",
    "print(\"Test: \", len(X_test))"
   ]
  },
  {
   "cell_type": "code",
   "execution_count": 3,
   "metadata": {},
   "outputs": [],
   "source": [
    "GOW = JClass(\"GOW\")"
   ]
  },
  {
   "cell_type": "code",
   "execution_count": 18,
   "metadata": {},
   "outputs": [],
   "source": [
    "LAMBDA1 = 15\n",
    "LAMBDA2 = 30\n",
    "metric = 'sqeuclidean'\n",
    "\n",
    "def new_metric(a, seq1, seq2):\n",
    "    C = ot.dist(seq1, seq2, metric=metric)\n",
    "    C = C / C.max()\n",
    "    m = len(seq2)\n",
    "    b = np.ones(m) / m\n",
    "\n",
    "    GOOW = GOW(a, b, C, 10, LAMBDA1, LAMBDA2, 0.0001, 100, \"w_slope\")\n",
    "\n",
    "    return GOOW.GOW_distance_sinkhorn_autoscale()"
   ]
  },
  {
   "cell_type": "code",
   "execution_count": 19,
   "metadata": {},
   "outputs": [
    {
     "name": "stdout",
     "output_type": "stream",
     "text": [
      "Computing: 0\n",
      "Done\n",
      "Computing: 1\n",
      "Done\n",
      "Computing: 2\n",
      "Done\n",
      "Computing: 3\n",
      "Done\n",
      "Computing: 4\n",
      "Done\n",
      "Computing: 5\n",
      "Done\n",
      "Computing: 6\n",
      "Done\n",
      "Computing: 7\n",
      "Done\n",
      "Computing: 8\n",
      "Done\n",
      "Computing: 9\n",
      "Done\n",
      "Computing: 10\n",
      "Done\n",
      "Computing: 11\n",
      "Done\n",
      "Computing: 12\n",
      "Done\n",
      "Computing: 13\n",
      "Done\n",
      "Computing: 14\n",
      "Done\n",
      "Computing: 15\n",
      "Done\n",
      "Computing: 16\n",
      "Done\n",
      "Computing: 17\n",
      "Done\n",
      "Computing: 18\n",
      "Done\n",
      "Computing: 19\n",
      "Done\n",
      "Computing: 20\n",
      "Done\n",
      "Computing: 21\n",
      "Done\n",
      "Computing: 22\n",
      "Done\n",
      "Computing: 23\n",
      "Done\n",
      "Computing: 24\n",
      "Done\n",
      "Computing: 25\n",
      "Done\n",
      "Computing: 26\n",
      "Done\n",
      "Computing: 27\n",
      "Done\n",
      "Computing: 28\n",
      "Done\n",
      "Computing: 29\n",
      "Done\n",
      "Computing: 30\n",
      "Done\n",
      "Computing: 31\n",
      "Done\n",
      "Computing: 32\n",
      "Done\n",
      "Computing: 33\n",
      "Done\n",
      "Computing: 34\n",
      "Done\n",
      "Computing: 35\n",
      "Done\n",
      "Computing: 36\n",
      "Done\n",
      "Computing: 37\n",
      "Done\n",
      "Computing: 38\n",
      "Done\n",
      "Computing: 39\n",
      "Done\n",
      "Computing: 40\n",
      "Done\n",
      "Computing: 41\n",
      "Done\n",
      "Computing: 42\n",
      "Done\n",
      "Computing: 43\n",
      "Done\n",
      "Computing: 44\n",
      "Done\n",
      "Computing: 45\n",
      "Done\n",
      "Computing: 46\n",
      "Done\n",
      "Computing: 47\n",
      "Done\n",
      "Computing: 48\n",
      "Done\n",
      "Computing: 49\n",
      "Done\n",
      "Computing: 50\n",
      "Done\n",
      "Computing: 51\n",
      "Done\n",
      "Computing: 52\n",
      "Done\n",
      "Computing: 53\n",
      "Done\n",
      "Computing: 54\n",
      "Done\n",
      "Computing: 55\n",
      "Done\n",
      "Computing: 56\n",
      "Done\n",
      "Computing: 57\n",
      "Done\n",
      "Computing: 58\n",
      "Done\n",
      "Computing: 59\n",
      "Done\n",
      "Computing: 60\n",
      "Done\n",
      "Computing: 61\n",
      "Done\n",
      "Computing: 62\n",
      "Done\n",
      "Computing: 63\n",
      "Done\n",
      "Computing: 64\n",
      "Done\n",
      "Computing: 65\n",
      "Done\n",
      "Computing: 66\n",
      "Done\n",
      "Computing: 67\n",
      "Done\n",
      "Computing: 68\n",
      "Done\n",
      "Computing: 69\n",
      "Done\n",
      "Computing: 70\n",
      "Done\n",
      "Computing: 71\n",
      "Done\n",
      "Computing: 72\n",
      "Done\n",
      "Computing: 73\n",
      "Done\n",
      "Computing: 74\n",
      "Done\n",
      "Computing: 75\n",
      "Done\n",
      "Computing: 76\n",
      "Done\n",
      "Computing: 77\n",
      "Done\n",
      "Computing: 78\n",
      "Done\n",
      "Computing: 79\n",
      "Done\n",
      "Computing: 80\n",
      "Done\n",
      "Computing: 81\n",
      "Done\n",
      "Computing: 82\n",
      "Done\n",
      "Computing: 83\n",
      "Done\n",
      "Computing: 84\n",
      "Done\n",
      "Computing: 85\n",
      "Done\n",
      "Computing: 86\n",
      "Done\n",
      "Computing: 87\n",
      "Done\n",
      "Computing: 88\n",
      "Done\n",
      "Computing: 89\n",
      "Done\n",
      "Computing: 90\n",
      "Done\n",
      "Computing: 91\n",
      "Done\n",
      "Computing: 92\n",
      "Done\n",
      "Computing: 93\n",
      "Done\n",
      "Computing: 94\n",
      "Done\n",
      "Computing: 95\n",
      "Done\n",
      "Computing: 96\n",
      "Done\n",
      "Computing: 97\n",
      "Done\n",
      "Computing: 98\n",
      "Done\n",
      "Computing: 99\n",
      "Done\n",
      "Computing: 100\n",
      "Done\n",
      "Computing: 101\n",
      "Done\n",
      "Computing: 102\n",
      "Done\n",
      "Computing: 103\n",
      "Done\n",
      "Computing: 104\n",
      "Done\n",
      "Computing: 105\n",
      "Done\n",
      "Computing: 106\n",
      "Done\n",
      "Computing: 107\n",
      "Done\n",
      "Computing: 108\n",
      "Done\n",
      "Computing: 109\n",
      "Done\n"
     ]
    }
   ],
   "source": [
    "X_computed = np.ones((len(X_train), len(X_train)))\n",
    "\n",
    "X_test_computed = np.empty((len(X_test), len(X_train)))\n",
    "\n",
    "for i in range(len(X_test)):\n",
    "    print('Computing:', i)\n",
    "    seq_1 = np.array(X_test[i])\n",
    "    n = len(seq_1)\n",
    "    a = np.ones(n) / n    \n",
    "\n",
    "    for j in range(len(X_train)):\n",
    "        X_test_computed[i][j] = new_metric(a, seq_1, np.array(X_train[j]))\n",
    "    \n",
    "    print('Done')\n",
    "\n",
    "# 96m"
   ]
  },
  {
   "cell_type": "code",
   "execution_count": 20,
   "metadata": {},
   "outputs": [
    {
     "data": {
      "text/plain": [
       "['Saved_distance_matrices/sqeuclidean/gow_dist_sinkhorn_autoscale_LAMBDA1_15_LAMBDA2_30.pkl']"
      ]
     },
     "execution_count": 20,
     "metadata": {},
     "output_type": "execute_result"
    }
   ],
   "source": [
    "joblib.dump(X_test_computed, \"Saved_distance_matrices/%s/gow_dist_sinkhorn_autoscale_LAMBDA1_%s_LAMBDA2_%s.pkl\" % (metric, LAMBDA1, LAMBDA2))"
   ]
  },
  {
   "cell_type": "code",
   "execution_count": 21,
   "metadata": {},
   "outputs": [
    {
     "name": "stdout",
     "output_type": "stream",
     "text": [
      "Predicted labels:  [0 0 0 0 0 0 0 7 7 0 0 1 1 1 1 1 1 1 1 1 1 3 2 2 2 2 2 2 2 2 2 2 2 3 3 3 3\n",
      " 3 3 3 3 3 3 3 7 7 7 4 7 4 7 7 7 7 7 3 3 3 3 3 3 3 3 3 3 5 6 6 6 6 7 0 0 6\n",
      " 6 6 6 7 7 7 7 7 7 7 7 4 7 7 8 8 8 8 8 8 8 8 8 8 8 9 9 9 9 9 9 9 9 9 9 9]\n",
      "Ground truth    :  [0 0 0 0 0 0 0 0 0 0 0 1 1 1 1 1 1 1 1 1 1 1 2 2 2 2 2 2 2 2 2 2 2 3 3 3 3\n",
      " 3 3 3 3 3 3 3 4 4 4 4 4 4 4 4 4 4 4 5 5 5 5 5 5 5 5 5 5 5 6 6 6 6 6 6 6 6\n",
      " 6 6 6 7 7 7 7 7 7 7 7 7 7 7 8 8 8 8 8 8 8 8 8 8 8 9 9 9 9 9 9 9 9 9 9 9]\n",
      "Accuracy of 1NN: 76.36 %\n"
     ]
    }
   ],
   "source": [
    "num_neighbor = 1\n",
    "clf = neighbors.KNeighborsClassifier(n_neighbors = num_neighbor, metric=\"precomputed\")\n",
    "clf.fit(X_computed, y_train)\n",
    "y_pred = clf.predict(X_test_computed)\n",
    "\n",
    "print(\"Predicted labels: \", y_pred)\n",
    "print(\"Ground truth    : \", y_test)\n",
    "\n",
    "from sklearn.metrics import accuracy_score\n",
    "print(\"Accuracy of \" + str(num_neighbor) + \"NN: %.2f %%\" %(100*accuracy_score(y_test, y_pred)))"
   ]
  },
  {
   "cell_type": "code",
   "execution_count": 22,
   "metadata": {},
   "outputs": [
    {
     "name": "stdout",
     "output_type": "stream",
     "text": [
      "Predicted labels:  [0 0 0 0 0 0 0 7 7 0 0 1 1 1 1 1 1 1 1 1 1 1 2 2 2 2 2 2 2 2 2 2 2 3 3 3 3\n",
      " 3 3 3 3 3 3 3 7 7 7 4 7 4 7 7 4 7 7 3 3 3 3 3 3 3 3 3 3 5 6 6 6 6 0 0 0 6\n",
      " 0 6 6 7 7 7 7 7 7 7 7 4 7 7 8 8 8 8 8 8 8 8 8 3 8 9 9 9 9 9 9 9 9 9 9 9]\n",
      "Ground truth    :  [0 0 0 0 0 0 0 0 0 0 0 1 1 1 1 1 1 1 1 1 1 1 2 2 2 2 2 2 2 2 2 2 2 3 3 3 3\n",
      " 3 3 3 3 3 3 3 4 4 4 4 4 4 4 4 4 4 4 5 5 5 5 5 5 5 5 5 5 5 6 6 6 6 6 6 6 6\n",
      " 6 6 6 7 7 7 7 7 7 7 7 7 7 7 8 8 8 8 8 8 8 8 8 8 8 9 9 9 9 9 9 9 9 9 9 9]\n",
      "Accuracy of 2NN: 76.36 %\n"
     ]
    }
   ],
   "source": [
    "num_neighbor = 2\n",
    "clf = neighbors.KNeighborsClassifier(n_neighbors = num_neighbor, metric=\"precomputed\")\n",
    "clf.fit(X_computed, y_train)\n",
    "y_pred = clf.predict(X_test_computed)\n",
    "\n",
    "print(\"Predicted labels: \", y_pred)\n",
    "print(\"Ground truth    : \", y_test)\n",
    "\n",
    "from sklearn.metrics import accuracy_score\n",
    "print(\"Accuracy of \" + str(num_neighbor) + \"NN: %.2f %%\" %(100*accuracy_score(y_test, y_pred)))"
   ]
  },
  {
   "cell_type": "code",
   "execution_count": 23,
   "metadata": {},
   "outputs": [
    {
     "name": "stdout",
     "output_type": "stream",
     "text": [
      "Predicted labels:  [0 0 7 0 7 0 0 7 7 7 0 1 1 1 1 1 1 1 1 1 1 1 2 2 2 2 2 2 2 2 2 2 2 3 3 3 3\n",
      " 3 3 3 3 3 3 3 7 7 7 4 7 7 7 7 7 7 7 3 3 3 3 3 3 3 3 3 3 5 6 6 6 6 0 0 0 0\n",
      " 6 6 6 7 7 7 7 7 7 7 7 4 7 7 8 8 8 8 8 8 8 8 8 3 8 9 9 9 9 9 9 9 9 9 9 9]\n",
      "Ground truth    :  [0 0 0 0 0 0 0 0 0 0 0 1 1 1 1 1 1 1 1 1 1 1 2 2 2 2 2 2 2 2 2 2 2 3 3 3 3\n",
      " 3 3 3 3 3 3 3 4 4 4 4 4 4 4 4 4 4 4 5 5 5 5 5 5 5 5 5 5 5 6 6 6 6 6 6 6 6\n",
      " 6 6 6 7 7 7 7 7 7 7 7 7 7 7 8 8 8 8 8 8 8 8 8 8 8 9 9 9 9 9 9 9 9 9 9 9]\n",
      "Accuracy of 3NN: 71.82 %\n"
     ]
    }
   ],
   "source": [
    "num_neighbor = 3\n",
    "clf = neighbors.KNeighborsClassifier(n_neighbors = num_neighbor, metric=\"precomputed\")\n",
    "clf.fit(X_computed, y_train)\n",
    "y_pred = clf.predict(X_test_computed)\n",
    "\n",
    "print(\"Predicted labels: \", y_pred)\n",
    "print(\"Ground truth    : \", y_test)\n",
    "\n",
    "from sklearn.metrics import accuracy_score\n",
    "print(\"Accuracy of \" + str(num_neighbor) + \"NN: %.2f %%\" %(100*accuracy_score(y_test, y_pred)))"
   ]
  },
  {
   "cell_type": "code",
   "execution_count": 24,
   "metadata": {},
   "outputs": [
    {
     "name": "stdout",
     "output_type": "stream",
     "text": [
      "Predicted labels:  [0 0 7 0 7 0 0 7 7 7 0 1 1 1 1 1 1 1 1 1 1 1 2 2 2 2 2 2 2 2 2 2 2 3 3 3 3\n",
      " 3 3 3 3 3 3 3 7 7 7 4 7 7 7 4 7 7 7 3 3 3 3 3 3 3 3 3 3 5 6 6 6 6 7 7 0 0\n",
      " 0 6 6 7 7 7 7 7 7 7 7 4 7 7 8 8 8 8 8 8 8 8 8 3 3 9 9 9 9 9 9 9 9 9 9 9]\n",
      "Ground truth    :  [0 0 0 0 0 0 0 0 0 0 0 1 1 1 1 1 1 1 1 1 1 1 2 2 2 2 2 2 2 2 2 2 2 3 3 3 3\n",
      " 3 3 3 3 3 3 3 4 4 4 4 4 4 4 4 4 4 4 5 5 5 5 5 5 5 5 5 5 5 6 6 6 6 6 6 6 6\n",
      " 6 6 6 7 7 7 7 7 7 7 7 7 7 7 8 8 8 8 8 8 8 8 8 8 8 9 9 9 9 9 9 9 9 9 9 9]\n",
      "Accuracy of 4NN: 70.91 %\n"
     ]
    }
   ],
   "source": [
    "num_neighbor = 4\n",
    "clf = neighbors.KNeighborsClassifier(n_neighbors = num_neighbor, metric=\"precomputed\")\n",
    "clf.fit(X_computed, y_train)\n",
    "y_pred = clf.predict(X_test_computed)\n",
    "\n",
    "print(\"Predicted labels: \", y_pred)\n",
    "print(\"Ground truth    : \", y_test)\n",
    "\n",
    "from sklearn.metrics import accuracy_score\n",
    "print(\"Accuracy of \" + str(num_neighbor) + \"NN: %.2f %%\" %(100*accuracy_score(y_test, y_pred)))"
   ]
  },
  {
   "cell_type": "code",
   "execution_count": 25,
   "metadata": {},
   "outputs": [
    {
     "name": "stdout",
     "output_type": "stream",
     "text": [
      "Predicted labels:  [0 0 7 0 7 0 0 7 7 7 0 1 1 1 1 1 1 1 1 1 1 1 2 2 2 2 2 2 2 2 2 2 2 3 3 3 3\n",
      " 3 3 3 3 3 3 3 7 7 7 4 7 7 7 4 7 7 7 3 3 3 3 3 3 3 3 3 3 5 6 0 6 6 0 7 0 0\n",
      " 0 0 6 7 7 7 7 7 7 7 7 4 7 7 8 8 8 8 8 8 8 8 8 3 3 9 9 9 9 9 9 9 9 9 9 9]\n",
      "Ground truth    :  [0 0 0 0 0 0 0 0 0 0 0 1 1 1 1 1 1 1 1 1 1 1 2 2 2 2 2 2 2 2 2 2 2 3 3 3 3\n",
      " 3 3 3 3 3 3 3 4 4 4 4 4 4 4 4 4 4 4 5 5 5 5 5 5 5 5 5 5 5 6 6 6 6 6 6 6 6\n",
      " 6 6 6 7 7 7 7 7 7 7 7 7 7 7 8 8 8 8 8 8 8 8 8 8 8 9 9 9 9 9 9 9 9 9 9 9]\n",
      "Accuracy of 5NN: 69.09 %\n"
     ]
    }
   ],
   "source": [
    "num_neighbor = 5\n",
    "clf = neighbors.KNeighborsClassifier(n_neighbors = num_neighbor, metric=\"precomputed\")\n",
    "clf.fit(X_computed, y_train)\n",
    "y_pred = clf.predict(X_test_computed)\n",
    "\n",
    "print(\"Predicted labels: \", y_pred)\n",
    "print(\"Ground truth    : \", y_test)\n",
    "\n",
    "from sklearn.metrics import accuracy_score\n",
    "print(\"Accuracy of \" + str(num_neighbor) + \"NN: %.2f %%\" %(100*accuracy_score(y_test, y_pred)))"
   ]
  },
  {
   "cell_type": "code",
   "execution_count": 26,
   "metadata": {},
   "outputs": [
    {
     "name": "stdout",
     "output_type": "stream",
     "text": [
      "Predicted labels:  [0 0 0 0 7 0 0 7 7 7 0 1 1 1 1 1 1 1 1 1 1 1 2 2 2 2 2 2 2 2 2 2 2 3 3 3 3\n",
      " 3 3 3 3 3 3 3 7 7 7 4 4 7 7 4 7 7 7 3 3 3 3 3 3 3 3 3 7 5 6 6 6 6 7 7 0 0\n",
      " 0 0 6 7 7 7 7 7 7 7 7 4 7 7 8 8 8 8 8 8 8 8 8 3 8 9 9 9 9 9 9 9 9 9 9 9]\n",
      "Ground truth    :  [0 0 0 0 0 0 0 0 0 0 0 1 1 1 1 1 1 1 1 1 1 1 2 2 2 2 2 2 2 2 2 2 2 3 3 3 3\n",
      " 3 3 3 3 3 3 3 4 4 4 4 4 4 4 4 4 4 4 5 5 5 5 5 5 5 5 5 5 5 6 6 6 6 6 6 6 6\n",
      " 6 6 6 7 7 7 7 7 7 7 7 7 7 7 8 8 8 8 8 8 8 8 8 8 8 9 9 9 9 9 9 9 9 9 9 9]\n",
      "Accuracy of 6NN: 72.73 %\n"
     ]
    }
   ],
   "source": [
    "num_neighbor = 6\n",
    "clf = neighbors.KNeighborsClassifier(n_neighbors = num_neighbor, metric=\"precomputed\")\n",
    "clf.fit(X_computed, y_train)\n",
    "y_pred = clf.predict(X_test_computed)\n",
    "\n",
    "print(\"Predicted labels: \", y_pred)\n",
    "print(\"Ground truth    : \", y_test)\n",
    "\n",
    "from sklearn.metrics import accuracy_score\n",
    "print(\"Accuracy of \" + str(num_neighbor) + \"NN: %.2f %%\" %(100*accuracy_score(y_test, y_pred)))"
   ]
  },
  {
   "cell_type": "code",
   "execution_count": 27,
   "metadata": {},
   "outputs": [
    {
     "name": "stdout",
     "output_type": "stream",
     "text": [
      "Predicted labels:  [0 0 7 0 7 0 0 7 7 7 0 1 1 1 1 1 1 1 1 1 1 1 2 2 2 2 2 2 2 2 2 2 2 3 3 3 3\n",
      " 3 3 3 3 3 3 3 7 7 7 4 4 7 7 4 7 7 7 3 3 3 3 3 3 3 3 3 7 5 6 6 6 6 7 7 0 0\n",
      " 0 0 6 7 7 7 7 7 7 7 7 4 7 7 8 8 8 8 8 8 8 8 8 8 3 9 9 9 9 9 9 9 9 9 9 9]\n",
      "Ground truth    :  [0 0 0 0 0 0 0 0 0 0 0 1 1 1 1 1 1 1 1 1 1 1 2 2 2 2 2 2 2 2 2 2 2 3 3 3 3\n",
      " 3 3 3 3 3 3 3 4 4 4 4 4 4 4 4 4 4 4 5 5 5 5 5 5 5 5 5 5 5 6 6 6 6 6 6 6 6\n",
      " 6 6 6 7 7 7 7 7 7 7 7 7 7 7 8 8 8 8 8 8 8 8 8 8 8 9 9 9 9 9 9 9 9 9 9 9]\n",
      "Accuracy of 7NN: 71.82 %\n"
     ]
    }
   ],
   "source": [
    "num_neighbor = 7\n",
    "clf = neighbors.KNeighborsClassifier(n_neighbors = num_neighbor, metric=\"precomputed\")\n",
    "clf.fit(X_computed, y_train)\n",
    "y_pred = clf.predict(X_test_computed)\n",
    "\n",
    "print(\"Predicted labels: \", y_pred)\n",
    "print(\"Ground truth    : \", y_test)\n",
    "\n",
    "from sklearn.metrics import accuracy_score\n",
    "print(\"Accuracy of \" + str(num_neighbor) + \"NN: %.2f %%\" %(100*accuracy_score(y_test, y_pred)))"
   ]
  },
  {
   "cell_type": "code",
   "execution_count": 28,
   "metadata": {},
   "outputs": [
    {
     "name": "stdout",
     "output_type": "stream",
     "text": [
      "Predicted labels:  [0 0 7 0 7 0 0 7 7 7 0 1 1 1 1 1 1 1 1 1 1 1 2 2 2 2 2 2 2 2 2 2 2 3 3 3 3\n",
      " 3 3 3 3 3 3 3 7 7 7 4 4 7 7 4 4 7 7 3 3 3 3 3 3 3 3 3 7 5 6 6 6 6 7 7 0 0\n",
      " 0 0 6 7 7 7 7 7 7 7 7 4 7 7 8 8 8 8 8 8 8 8 8 8 3 9 9 9 9 9 9 9 9 9 9 9]\n",
      "Ground truth    :  [0 0 0 0 0 0 0 0 0 0 0 1 1 1 1 1 1 1 1 1 1 1 2 2 2 2 2 2 2 2 2 2 2 3 3 3 3\n",
      " 3 3 3 3 3 3 3 4 4 4 4 4 4 4 4 4 4 4 5 5 5 5 5 5 5 5 5 5 5 6 6 6 6 6 6 6 6\n",
      " 6 6 6 7 7 7 7 7 7 7 7 7 7 7 8 8 8 8 8 8 8 8 8 8 8 9 9 9 9 9 9 9 9 9 9 9]\n",
      "Accuracy of 8NN: 72.73 %\n"
     ]
    }
   ],
   "source": [
    "num_neighbor = 8\n",
    "clf = neighbors.KNeighborsClassifier(n_neighbors = num_neighbor, metric=\"precomputed\")\n",
    "clf.fit(X_computed, y_train)\n",
    "y_pred = clf.predict(X_test_computed)\n",
    "\n",
    "print(\"Predicted labels: \", y_pred)\n",
    "print(\"Ground truth    : \", y_test)\n",
    "\n",
    "from sklearn.metrics import accuracy_score\n",
    "print(\"Accuracy of \" + str(num_neighbor) + \"NN: %.2f %%\" %(100*accuracy_score(y_test, y_pred)))"
   ]
  },
  {
   "cell_type": "code",
   "execution_count": 29,
   "metadata": {},
   "outputs": [
    {
     "data": {
      "text/plain": [
       "array([0, 0, 7, 0, 7, 0, 0, 7, 7, 7, 0, 1, 1, 1, 1, 1, 1, 1, 1, 1, 1, 1,\n",
       "       2, 2, 2, 2, 2, 2, 2, 2, 2, 2, 2, 3, 3, 3, 3, 3, 3, 3, 3, 3, 3, 3,\n",
       "       7, 7, 7, 4, 4, 7, 7, 4, 4, 7, 7, 3, 3, 3, 3, 3, 3, 3, 3, 3, 7, 5,\n",
       "       6, 6, 6, 6, 7, 7, 0, 0, 0, 0, 6, 7, 7, 7, 7, 7, 7, 7, 7, 4, 7, 7,\n",
       "       8, 8, 8, 8, 8, 8, 8, 8, 8, 8, 3, 9, 9, 9, 9, 9, 9, 9, 9, 9, 9, 9])"
      ]
     },
     "execution_count": 29,
     "metadata": {},
     "output_type": "execute_result"
    }
   ],
   "source": [
    "y_pred"
   ]
  }
 ],
 "metadata": {
  "interpreter": {
   "hash": "925c48296191328fd63282b32f31d58366fe2156a0e6251ae4d08cd1c8bc0f76"
  },
  "kernelspec": {
   "display_name": "Python 3.10.4 64-bit",
   "language": "python",
   "name": "python3"
  },
  "language_info": {
   "codemirror_mode": {
    "name": "ipython",
    "version": 3
   },
   "file_extension": ".py",
   "mimetype": "text/x-python",
   "name": "python",
   "nbconvert_exporter": "python",
   "pygments_lexer": "ipython3",
   "version": "3.10.4"
  },
  "orig_nbformat": 4
 },
 "nbformat": 4,
 "nbformat_minor": 2
}
