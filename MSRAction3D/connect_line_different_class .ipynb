{
 "cells": [
  {
   "cell_type": "code",
   "execution_count": 7,
   "metadata": {},
   "outputs": [],
   "source": [
    "from os import listdir\n",
    "from os.path import join\n",
    "import numpy as np\n",
    "from tslearn.metrics import dtw, dtw_path\n",
    "import sys\n",
    "import ot\n",
    "sys.path.append('../src/OPW')\n",
    "from opw import opw_sinkhorn\n",
    "import seaborn as sns\n",
    "import matplotlib.pyplot as plt\n",
    "sys.path.append('../src/GOW')"
   ]
  },
  {
   "cell_type": "code",
   "execution_count": 8,
   "metadata": {},
   "outputs": [],
   "source": [
    "def warping_path_to_warping_matrix(warping_path, len_seq1, len_seq2):\n",
    "    warping_matrix = np.zeros((len_seq1, len_seq2))\n",
    "    \n",
    "    for (i, j) in warping_path:\n",
    "        warping_matrix[i][j] = 1\n",
    "\n",
    "    return warping_matrix\n",
    "    \n",
    "\n",
    "def full_fname2_str(data_dir, fname, sep_char):\n",
    "    fnametostr = ''.join(fname).replace(data_dir, '')\n",
    "    ind = int(fnametostr.index(sep_char))\n",
    "    label = int(fnametostr[ind + 1:ind + 3])\n",
    "    return label\n",
    "\n",
    "def frame_normalizer(frame, frame_size):\n",
    "    assert frame.shape[0] == frame_size\n",
    "    frame = frame.reshape(frame_size // 3, 3)\n",
    "    spine_mid = frame[1]\n",
    "    new_frame = []\n",
    "    j = 0\n",
    "    for joint in frame:\n",
    "        new_frame.append(joint - spine_mid)\n",
    "        j += 1\n",
    "    new_frame = np.asarray(new_frame)\n",
    "    return (list(new_frame.flatten()))\n",
    "\n",
    "\n",
    "def read(data_dir):\n",
    "    print('Loading MSR 3D Data, data directory %s' % data_dir)\n",
    "    data, labels, lens, subjects = [], [], [], []\n",
    "    filenames = []\n",
    "    documents = [join(data_dir, d)\n",
    "                 for d in sorted(listdir(data_dir))]\n",
    "    filenames.extend(documents)\n",
    "    filenames = np.array(filenames)\n",
    "\n",
    "    for file in filenames:\n",
    "        action = np.loadtxt(file)[:, :3].flatten()\n",
    "        labels.append(full_fname2_str(data_dir, file, 'a'))\n",
    "        frame_size = len(action) // 60  # 20 iskeleton num x,y,z 3D points\n",
    "        lens.append(frame_size)\n",
    "        action = np.asarray(action).reshape(frame_size, 60)\n",
    "        \n",
    "        new_act = []\n",
    "        for frame in action:\n",
    "            new_act.append(frame)\n",
    "\n",
    "        data.append(new_act)\n",
    "        subjects.append(full_fname2_str(data_dir, file, 's'))\n",
    "        \n",
    "    data = np.asarray(data, dtype=object)\n",
    "    labels = np.asarray(labels) -1\n",
    "    lens = np.asarray(lens)\n",
    "    \n",
    "    subjects = np.asarray(subjects)\n",
    "    print(\"All files read!\")\n",
    "    print('initial shapes [data label len]: %s %s %s' % (data.shape, labels.shape, lens.shape))\n",
    "    return data,labels,lens, filenames"
   ]
  },
  {
   "cell_type": "code",
   "execution_count": 9,
   "metadata": {},
   "outputs": [
    {
     "name": "stdout",
     "output_type": "stream",
     "text": [
      "Loading MSR 3D Data, data directory ../Datasets/MSRAction3D/MSRAction3DSkeletonReal3D/\n",
      "All files read!\n",
      "initial shapes [data label len]: (567,) (567,) (567,)\n"
     ]
    }
   ],
   "source": [
    "MSR_data_dir = '../Datasets/MSRAction3D/MSRAction3DSkeletonReal3D/'\n",
    "# sitting and standing up\n",
    "data,labels,lens,filenames = read(MSR_data_dir)"
   ]
  },
  {
   "cell_type": "code",
   "execution_count": 10,
   "metadata": {},
   "outputs": [],
   "source": [
    "A, B = np.partition(lens, 1)[0:2]"
   ]
  },
  {
   "cell_type": "code",
   "execution_count": 11,
   "metadata": {},
   "outputs": [
    {
     "name": "stdout",
     "output_type": "stream",
     "text": [
      "13 15\n"
     ]
    }
   ],
   "source": [
    "print(A, B)"
   ]
  },
  {
   "cell_type": "code",
   "execution_count": 12,
   "metadata": {},
   "outputs": [
    {
     "data": {
      "text/plain": [
       "(array([484], dtype=int64),)"
      ]
     },
     "execution_count": 12,
     "metadata": {},
     "output_type": "execute_result"
    }
   ],
   "source": [
    "np.where(lens == 13)"
   ]
  },
  {
   "cell_type": "code",
   "execution_count": 13,
   "metadata": {},
   "outputs": [
    {
     "data": {
      "text/plain": [
       "(array([290], dtype=int64),)"
      ]
     },
     "execution_count": 13,
     "metadata": {},
     "output_type": "execute_result"
    }
   ],
   "source": [
    "np.where(lens == 15)"
   ]
  },
  {
   "cell_type": "code",
   "execution_count": 14,
   "metadata": {},
   "outputs": [
    {
     "name": "stdout",
     "output_type": "stream",
     "text": [
      "../Datasets/MSRAction3D/MSRAction3DSkeletonReal3D/a11_s05_e02_skeleton3D.txt \n",
      " ../Datasets/MSRAction3D/MSRAction3DSkeletonReal3D/a18_s03_e02_skeleton3D.txt\n",
      "../Datasets/MSRAction3D/MSRAction3DSkeletonReal3D/a16_s09_e01_skeleton3D.txt \n",
      " ../Datasets/MSRAction3D/MSRAction3DSkeletonReal3D/a16_s10_e01_skeleton3D.txt\n"
     ]
    }
   ],
   "source": [
    "print(filenames[290], '\\n', filenames[484])\n",
    "print(filenames[441], '\\n', filenames[444])"
   ]
  },
  {
   "cell_type": "code",
   "execution_count": 15,
   "metadata": {},
   "outputs": [],
   "source": [
    "seq1 = np.array(data[290])\n",
    "seq2 = np.array(data[484])"
   ]
  },
  {
   "cell_type": "markdown",
   "metadata": {},
   "source": [
    "# DTW"
   ]
  },
  {
   "cell_type": "code",
   "execution_count": 16,
   "metadata": {},
   "outputs": [
    {
     "data": {
      "text/plain": [
       "<Axes: >"
      ]
     },
     "execution_count": 16,
     "metadata": {},
     "output_type": "execute_result"
    },
    {
     "data": {
      "image/png": "[encoded data removed]",
      "text/plain": [
       "<Figure size 500x500 with 2 Axes>"
      ]
     },
     "metadata": {},
     "output_type": "display_data"
    }
   ],
   "source": [
    "warping_path, similarity_score = dtw_path(seq1, seq2)\n",
    "warping_matrix = warping_path_to_warping_matrix(warping_path, len(seq1), len(seq2))\n",
    "\n",
    "plt.figure(figsize=(5,5))\n",
    "sns.heatmap(warping_matrix, cmap=\"YlGnBu\", annot=None)"
   ]
  },
  {
   "cell_type": "code",
   "execution_count": 17,
   "metadata": {},
   "outputs": [
    {
     "data": {
      "text/plain": [
       "[(0, 0),\n",
       " (1, 1),\n",
       " (2, 2),\n",
       " (3, 3),\n",
       " (4, 3),\n",
       " (5, 3),\n",
       " (6, 3),\n",
       " (7, 3),\n",
       " (8, 3),\n",
       " (9, 3),\n",
       " (10, 4),\n",
       " (11, 5),\n",
       " (12, 6),\n",
       " (13, 7),\n",
       " (14, 8),\n",
       " (14, 9),\n",
       " (14, 10),\n",
       " (14, 11),\n",
       " (14, 12)]"
      ]
     },
     "execution_count": 17,
     "metadata": {},
     "output_type": "execute_result"
    }
   ],
   "source": [
    "warping_path"
   ]
  },
  {
   "cell_type": "markdown",
   "metadata": {},
   "source": [
    "# OPW"
   ]
  },
  {
   "cell_type": "code",
   "execution_count": 18,
   "metadata": {},
   "outputs": [
    {
     "data": {
      "text/plain": [
       "<Axes: >"
      ]
     },
     "execution_count": 18,
     "metadata": {},
     "output_type": "execute_result"
    },
    {
     "data": {
      "image/png": "[encoded data removed]",
      "text/plain": [
       "<Figure size 500x500 with 2 Axes>"
      ]
     },
     "metadata": {},
     "output_type": "display_data"
    }
   ],
   "source": [
    "C = ot.dist(seq1, seq2, metric='minkowski')\n",
    "a = np.ones(len(seq1)) / len(seq1)\n",
    "b = np.ones(len(seq2)) / len(seq2)\n",
    "LAMBDA1 = 20\n",
    "LAMBDA2 = 0.2\n",
    "P = opw_sinkhorn(a, b, C, lambda1=LAMBDA1, lambda2=LAMBDA2)\n",
    "plt.figure(figsize=(5,5))\n",
    "sns.heatmap(P, cmap=\"YlGnBu\", annot=None)"
   ]
  },
  {
   "cell_type": "code",
   "execution_count": 19,
   "metadata": {},
   "outputs": [
    {
     "data": {
      "text/plain": [
       "<Axes: >"
      ]
     },
     "execution_count": 19,
     "metadata": {},
     "output_type": "execute_result"
    },
    {
     "data": {
      "image/png": "[encoded data removed]",
      "text/plain": [
       "<Figure size 500x500 with 2 Axes>"
      ]
     },
     "metadata": {},
     "output_type": "display_data"
    }
   ],
   "source": [
    "warping_path = []\n",
    "\n",
    "for i in range(len(seq1)):\n",
    "    warping_path.append((i, np.argmax(P[i])))\n",
    "\n",
    "warping_matrix = warping_path_to_warping_matrix(warping_path, len(seq1), len(seq2))\n",
    "\n",
    "plt.figure(figsize=(5,5))\n",
    "sns.heatmap(warping_matrix, cmap=\"YlGnBu\", annot=None)"
   ]
  },
  {
   "cell_type": "code",
   "execution_count": 20,
   "metadata": {},
   "outputs": [
    {
     "data": {
      "text/plain": [
       "[(0, 0),\n",
       " (1, 1),\n",
       " (2, 2),\n",
       " (3, 3),\n",
       " (4, 3),\n",
       " (5, 4),\n",
       " (6, 5),\n",
       " (7, 6),\n",
       " (8, 7),\n",
       " (9, 8),\n",
       " (10, 9),\n",
       " (11, 9),\n",
       " (12, 10),\n",
       " (13, 11),\n",
       " (14, 12)]"
      ]
     },
     "execution_count": 20,
     "metadata": {},
     "output_type": "execute_result"
    }
   ],
   "source": [
    "warping_path"
   ]
  },
  {
   "cell_type": "markdown",
   "metadata": {},
   "source": [
    "# GOW"
   ]
  },
  {
   "cell_type": "code",
   "execution_count": 21,
   "metadata": {},
   "outputs": [
    {
     "name": "stderr",
     "output_type": "stream",
     "text": [
      "G:\\CNTT\\Python310\\lib\\site-packages\\ot\\bregman.py:517: UserWarning: Sinkhorn did not converge. You might want to increase the number of iterations `numItermax` or the regularization parameter `reg`.\n",
      "  warnings.warn(\"Sinkhorn did not converge. You might want to \"\n"
     ]
    },
    {
     "name": "stdout",
     "output_type": "stream",
     "text": [
      "Iterations: 3\n"
     ]
    },
    {
     "data": {
      "text/plain": [
       "<Axes: >"
      ]
     },
     "execution_count": 21,
     "metadata": {},
     "output_type": "execute_result"
    },
    {
     "data": {
      "image/png": "[encoded data removed]",
      "text/plain": [
       "<Figure size 500x500 with 2 Axes>"
      ]
     },
     "metadata": {},
     "output_type": "display_data"
    }
   ],
   "source": [
    "LAMBDA1 = 15\n",
    "LAMBDA2 = 30\n",
    "\n",
    "C = ot.dist(seq1, seq2, metric='minkowski')\n",
    "a = np.ones(len(seq1)) / len(seq1)\n",
    "b = np.ones(len(seq2)) / len(seq2)\n",
    "\n",
    "C_new, P, w = GOW_sinkhorn_autoscale(a, b, C, LAMBDA1=LAMBDA1, LAMBDA2=LAMBDA2, maxIter=20, num_FW_iteration=1000, epsilon=0.0001)\n",
    "\n",
    "plt.figure(figsize=(5,5))\n",
    "sns.heatmap(P, cmap=\"YlGnBu\", annot=None)"
   ]
  },
  {
   "cell_type": "code",
   "execution_count": 22,
   "metadata": {},
   "outputs": [
    {
     "data": {
      "text/plain": [
       "<Axes: >"
      ]
     },
     "execution_count": 22,
     "metadata": {},
     "output_type": "execute_result"
    },
    {
     "data": {
      "image/png": "[encoded data removed]",
      "text/plain": [
       "<Figure size 500x500 with 2 Axes>"
      ]
     },
     "metadata": {},
     "output_type": "display_data"
    }
   ],
   "source": [
    "warping_path = []\n",
    "\n",
    "for i in range(len(seq1)):\n",
    "    warping_path.append((i, np.argmax(P[i])))\n",
    "\n",
    "warping_matrix = warping_path_to_warping_matrix(warping_path, len(seq1), len(seq2))\n",
    "\n",
    "plt.figure(figsize=(5,5))\n",
    "sns.heatmap(warping_matrix, cmap=\"YlGnBu\", annot=None)"
   ]
  },
  {
   "cell_type": "code",
   "execution_count": 23,
   "metadata": {},
   "outputs": [
    {
     "data": {
      "text/plain": [
       "[(0, 0),\n",
       " (1, 1),\n",
       " (2, 2),\n",
       " (3, 3),\n",
       " (4, 3),\n",
       " (5, 4),\n",
       " (6, 5),\n",
       " (7, 6),\n",
       " (8, 7),\n",
       " (9, 8),\n",
       " (10, 9),\n",
       " (11, 9),\n",
       " (12, 10),\n",
       " (13, 11),\n",
       " (14, 12)]"
      ]
     },
     "execution_count": 23,
     "metadata": {},
     "output_type": "execute_result"
    }
   ],
   "source": [
    "warping_path"
   ]
  },
  {
   "cell_type": "code",
   "execution_count": 24,
   "metadata": {},
   "outputs": [
    {
     "data": {
      "text/plain": [
       "array([[0.00555245],\n",
       "       [0.0058961 ],\n",
       "       [0.97779421],\n",
       "       [0.00451349],\n",
       "       [0.00624376]])"
      ]
     },
     "execution_count": 24,
     "metadata": {},
     "output_type": "execute_result"
    }
   ],
   "source": [
    "w"
   ]
  }
 ],
 "metadata": {
  "interpreter": {
   "hash": "925c48296191328fd63282b32f31d58366fe2156a0e6251ae4d08cd1c8bc0f76"
  },
  "kernelspec": {
   "display_name": "Python 3.10.4 64-bit",
   "language": "python",
   "name": "python3"
  },
  "language_info": {
   "codemirror_mode": {
    "name": "ipython",
    "version": 3
   },
   "file_extension": ".py",
   "mimetype": "text/x-python",
   "name": "python",
   "nbconvert_exporter": "python",
   "pygments_lexer": "ipython3",
   "version": "3.10.4"
  },
  "orig_nbformat": 4
 },
 "nbformat": 4,
 "nbformat_minor": 2
}
