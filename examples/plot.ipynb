{
 "cells": [
  {
   "cell_type": "code",
   "execution_count": 27,
   "metadata": {},
   "outputs": [],
   "source": [
    "import sys\n",
    "sys.path.append('../src')\n",
    "from gow.utilities import load_human_action_dataset\n",
    "from gow import gow_sinkhorn_autoscale_fixed\n",
    "from ot import dist\n",
    "import seaborn as sns\n",
    "import matplotlib.pyplot as plt\n",
    "import numpy as np"
   ]
  },
  {
   "cell_type": "code",
   "execution_count": null,
   "metadata": {},
   "outputs": [],
   "source": [
    "# Get Human Actions train and test sets\n",
    "X_train, y_train, X_test, y_test = load_human_action_dataset(\"../data/Human_Actions\", \"MSRAction3D\")\n",
    "seq1 = X_test[20]\n",
    "seq2 = X_train[7]\n",
    "\n",
    "# Compute the initial cost matrix\n",
    "D = dist(seq1, seq2)\n",
    "D = D / D.max()\n",
    "\n",
    "# Get the distance along with transport matrix and weight vector\n",
    "distance, T, weight_vector = gow_sinkhorn_autoscale_fixed([], [], D, show_details=True)"
   ]
  },
  {
   "cell_type": "code",
   "execution_count": null,
   "metadata": {},
   "outputs": [],
   "source": [
    "# Plot transport matrix T\n",
    "plt.figure(figsize=(5,5))\n",
    "sns.heatmap(T, cmap=\"YlGnBu\", annot=None)"
   ]
  },
  {
   "cell_type": "code",
   "execution_count": null,
   "metadata": {},
   "outputs": [],
   "source": [
    "# Plot weights for each function\n",
    "w_flat = weight_vector.flatten()\n",
    "func_num = len(w_flat)\n",
    "x_axis = np.arange(func_num) + 1\n",
    "plt.ylim([0, 1])\n",
    "plt.bar(x_axis,w_flat, align='center') \n",
    "plt.xticks(x_axis)\n",
    "plt.show()"
   ]
  }
 ],
 "metadata": {
  "interpreter": {
   "hash": "925c48296191328fd63282b32f31d58366fe2156a0e6251ae4d08cd1c8bc0f76"
  },
  "kernelspec": {
   "display_name": "Python 3.10.4 64-bit",
   "language": "python",
   "name": "python3"
  },
  "language_info": {
   "codemirror_mode": {
    "name": "ipython",
    "version": 3
   },
   "file_extension": ".py",
   "mimetype": "text/x-python",
   "name": "python",
   "nbconvert_exporter": "python",
   "pygments_lexer": "ipython3",
   "version": "3.10.4"
  },
  "orig_nbformat": 4
 },
 "nbformat": 4,
 "nbformat_minor": 2
}
