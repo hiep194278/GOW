{
 "cells": [
  {
   "cell_type": "code",
   "execution_count": 22,
   "metadata": {},
   "outputs": [],
   "source": [
    "import sys\n",
    "sys.path.append('../src')\n",
    "from gow.utilities import load_ucr_dataset\n",
    "from gow import gow_sinkhorn_autoscale, gow_sinkhorn, gow_sinkhorn_autoscale_fixed\n",
    "from ot import dist"
   ]
  },
  {
   "cell_type": "code",
   "execution_count": null,
   "metadata": {},
   "outputs": [],
   "source": [
    "# Get UCR train and test sets\n",
    "X_train, y_train, X_test, y_test = load_ucr_dataset(\"../data/UCR\", \"Chinatown\")\n",
    "\n",
    "seq1 = X_test[2]\n",
    "seq2 = X_train[3]\n",
    "\n",
    "# Compute the initial cost matrix\n",
    "D = dist(seq1, seq2)\n",
    "D = D / D.max()"
   ]
  },
  {
   "cell_type": "code",
   "execution_count": null,
   "metadata": {},
   "outputs": [],
   "source": [
    "# Insert your own function list\n",
    "funcs = [(\"hyperbolic_tangent\", (23.467, 0.1, 0)), \n",
    "         (\"exponential\", (1, 0.2, -1.464))\n",
    "        ]\n",
    "gow_sinkhorn([], [], D, function_list=funcs)"
   ]
  },
  {
   "cell_type": "code",
   "execution_count": null,
   "metadata": {},
   "outputs": [],
   "source": [
    "# Insert your own function list (the functions should be inside the unit square, this function will automatically scale them)\n",
    "funcs = [(\"hyperbolic_tangent\", (1.13, 1.4, 0)), \n",
    "         ('polynomial_with_degree', (1.0, 1.0, 3.2))\n",
    "        ]\n",
    "gow_sinkhorn_autoscale([], [], D, function_list=funcs)"
   ]
  },
  {
   "cell_type": "code",
   "execution_count": null,
   "metadata": {},
   "outputs": [],
   "source": [
    "# Function list is not needed because this function uses 5 fixed functions inside the unit square\n",
    "gow_sinkhorn_autoscale_fixed([], [], D)"
   ]
  }
 ],
 "metadata": {
  "interpreter": {
   "hash": "925c48296191328fd63282b32f31d58366fe2156a0e6251ae4d08cd1c8bc0f76"
  },
  "kernelspec": {
   "display_name": "Python 3.10.4 64-bit",
   "language": "python",
   "name": "python3"
  },
  "language_info": {
   "codemirror_mode": {
    "name": "ipython",
    "version": 3
   },
   "file_extension": ".py",
   "mimetype": "text/x-python",
   "name": "python",
   "nbconvert_exporter": "python",
   "pygments_lexer": "ipython3",
   "version": "3.10.4"
  },
  "orig_nbformat": 4
 },
 "nbformat": 4,
 "nbformat_minor": 2
}
