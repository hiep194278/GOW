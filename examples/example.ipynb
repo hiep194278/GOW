{
 "cells": [
  {
   "cell_type": "code",
   "execution_count": 19,
   "metadata": {},
   "outputs": [],
   "source": [
    "import sys\n",
    "sys.path.append('../src')\n",
    "from gow.utilities import load_human_action_dataset, load_ucr_dataset, run_knn\n",
    "from gow import gow_sinkhorn_autoscale, gow_sinkhorn, gow_sinkhorn_autoscale_fixed\n",
    "import numpy as np"
   ]
  },
  {
   "cell_type": "code",
   "execution_count": 20,
   "metadata": {},
   "outputs": [
    {
     "name": "stdout",
     "output_type": "stream",
     "text": [
      "Successfully loaded dataset: Chinatown\n",
      "Size of train data: 20\n",
      "Size of test data: 343\n"
     ]
    }
   ],
   "source": [
    "X_train, y_train, X_test, y_test = load_ucr_dataset(\"../data/UCR\", \"Chinatown\")"
   ]
  },
  {
   "cell_type": "code",
   "execution_count": 21,
   "metadata": {},
   "outputs": [
    {
     "name": "stdout",
     "output_type": "stream",
     "text": [
      "Batch: 1/343\n"
     ]
    },
    {
     "name": "stderr",
     "output_type": "stream",
     "text": [
      "G:\\CNTT\\Python310\\lib\\site-packages\\ot\\bregman.py:517: UserWarning: Sinkhorn did not converge. You might want to increase the number of iterations `numItermax` or the regularization parameter `reg`.\n",
      "  warnings.warn(\"Sinkhorn did not converge. You might want to \"\n"
     ]
    },
    {
     "name": "stdout",
     "output_type": "stream",
     "text": [
      "Batch: 2/343\n",
      "Batch: 3/343\n",
      "Batch: 4/343\n",
      "Batch: 5/343\n",
      "Batch: 6/343\n",
      "Batch: 7/343\n",
      "Batch: 8/343\n"
     ]
    },
    {
     "ename": "KeyboardInterrupt",
     "evalue": "",
     "output_type": "error",
     "traceback": [
      "\u001b[1;31m---------------------------------------------------------------------------\u001b[0m",
      "\u001b[1;31mKeyboardInterrupt\u001b[0m                         Traceback (most recent call last)",
      "Cell \u001b[1;32mIn[21], line 1\u001b[0m\n\u001b[1;32m----> 1\u001b[0m \u001b[43mrun_knn\u001b[49m\u001b[43m(\u001b[49m\u001b[43mX_train\u001b[49m\u001b[43m,\u001b[49m\u001b[43m \u001b[49m\u001b[43my_train\u001b[49m\u001b[43m,\u001b[49m\u001b[43m \u001b[49m\u001b[43mX_test\u001b[49m\u001b[43m,\u001b[49m\u001b[43m \u001b[49m\u001b[43my_test\u001b[49m\u001b[43m)\u001b[49m\n",
      "File \u001b[1;32mg:\\CNTT\\FilesLapTrinh\\HUST\\Do_an\\GOW\\examples\\../src\\gow\\utilities.py:60\u001b[0m, in \u001b[0;36mrun_knn\u001b[1;34m(X_train, y_train, X_test, y_test, normalize_cost_matrix, cost_metric, num_neighbor_list)\u001b[0m\n\u001b[0;32m     <a href='file:///g%3A/CNTT/FilesLapTrinh/HUST/Do_an/GOW/examples/../src/gow/utilities.py?line=56'>57</a>\u001b[0m         \u001b[39mif\u001b[39;00m normalize_cost_matrix:\n\u001b[0;32m     <a href='file:///g%3A/CNTT/FilesLapTrinh/HUST/Do_an/GOW/examples/../src/gow/utilities.py?line=57'>58</a>\u001b[0m             C \u001b[39m=\u001b[39m C \u001b[39m/\u001b[39m C\u001b[39m.\u001b[39mmax()\n\u001b[1;32m---> <a href='file:///g%3A/CNTT/FilesLapTrinh/HUST/Do_an/GOW/examples/../src/gow/utilities.py?line=59'>60</a>\u001b[0m         X_test_computed[i][j] \u001b[39m=\u001b[39m gow_sinkhorn_autoscale([], [], C)\n\u001b[0;32m     <a href='file:///g%3A/CNTT/FilesLapTrinh/HUST/Do_an/GOW/examples/../src/gow/utilities.py?line=62'>63</a>\u001b[0m \u001b[39mfor\u001b[39;00m k \u001b[39min\u001b[39;00m num_neighbor_list:\n\u001b[0;32m     <a href='file:///g%3A/CNTT/FilesLapTrinh/HUST/Do_an/GOW/examples/../src/gow/utilities.py?line=63'>64</a>\u001b[0m     clf \u001b[39m=\u001b[39m neighbors\u001b[39m.\u001b[39mKNeighborsClassifier(n_neighbors \u001b[39m=\u001b[39m k, metric\u001b[39m=\u001b[39m\u001b[39m\"\u001b[39m\u001b[39mprecomputed\u001b[39m\u001b[39m\"\u001b[39m)\n",
      "File \u001b[1;32mg:\\CNTT\\FilesLapTrinh\\HUST\\Do_an\\GOW\\examples\\../src\\gow\\__init__.py:211\u001b[0m, in \u001b[0;36mgow_sinkhorn_autoscale\u001b[1;34m(a, b, D, function_list, LAMBDA1, LAMBDA2, maxIter, stoppingCriterion, epsilon, num_FW_iteration, show_details)\u001b[0m\n\u001b[0;32m    <a href='file:///g%3A/CNTT/FilesLapTrinh/HUST/Do_an/GOW/examples/../src/gow/__init__.py?line=208'>209</a>\u001b[0m \u001b[39mfor\u001b[39;00m FW_index \u001b[39min\u001b[39;00m \u001b[39mrange\u001b[39m(num_FW_iteration):\n\u001b[0;32m    <a href='file:///g%3A/CNTT/FilesLapTrinh/HUST/Do_an/GOW/examples/../src/gow/__init__.py?line=209'>210</a>\u001b[0m     gradient \u001b[39m=\u001b[39m \u001b[39m-\u001b[39m\u001b[39m2\u001b[39m \u001b[39m*\u001b[39m np\u001b[39m.\u001b[39mmatmul(np\u001b[39m.\u001b[39mtranspose(V), Y \u001b[39m-\u001b[39m np\u001b[39m.\u001b[39mmatmul(V, w_new))\n\u001b[1;32m--> <a href='file:///g%3A/CNTT/FilesLapTrinh/HUST/Do_an/GOW/examples/../src/gow/__init__.py?line=210'>211</a>\u001b[0m     min_index \u001b[39m=\u001b[39m np\u001b[39m.\u001b[39;49margmin(gradient)\n\u001b[0;32m    <a href='file:///g%3A/CNTT/FilesLapTrinh/HUST/Do_an/GOW/examples/../src/gow/__init__.py?line=211'>212</a>\u001b[0m     s \u001b[39m=\u001b[39m np\u001b[39m.\u001b[39mzeros((num_function, \u001b[39m1\u001b[39m))\n\u001b[0;32m    <a href='file:///g%3A/CNTT/FilesLapTrinh/HUST/Do_an/GOW/examples/../src/gow/__init__.py?line=212'>213</a>\u001b[0m     s[min_index][\u001b[39m0\u001b[39m] \u001b[39m=\u001b[39m \u001b[39m1\u001b[39m\n",
      "File \u001b[1;32m<__array_function__ internals>:180\u001b[0m, in \u001b[0;36margmin\u001b[1;34m(*args, **kwargs)\u001b[0m\n",
      "File \u001b[1;32mG:\\CNTT\\Python310\\lib\\site-packages\\numpy\\core\\fromnumeric.py:1312\u001b[0m, in \u001b[0;36margmin\u001b[1;34m(a, axis, out, keepdims)\u001b[0m\n\u001b[0;32m   <a href='file:///g%3A/CNTT/Python310/lib/site-packages/numpy/core/fromnumeric.py?line=1224'>1225</a>\u001b[0m \u001b[39m\"\"\"\u001b[39;00m\n\u001b[0;32m   <a href='file:///g%3A/CNTT/Python310/lib/site-packages/numpy/core/fromnumeric.py?line=1225'>1226</a>\u001b[0m \u001b[39mReturns the indices of the minimum values along an axis.\u001b[39;00m\n\u001b[0;32m   <a href='file:///g%3A/CNTT/Python310/lib/site-packages/numpy/core/fromnumeric.py?line=1226'>1227</a>\u001b[0m \n\u001b[1;32m   (...)\u001b[0m\n\u001b[0;32m   <a href='file:///g%3A/CNTT/Python310/lib/site-packages/numpy/core/fromnumeric.py?line=1308'>1309</a>\u001b[0m \u001b[39m(2, 1, 4)\u001b[39;00m\n\u001b[0;32m   <a href='file:///g%3A/CNTT/Python310/lib/site-packages/numpy/core/fromnumeric.py?line=1309'>1310</a>\u001b[0m \u001b[39m\"\"\"\u001b[39;00m\n\u001b[0;32m   <a href='file:///g%3A/CNTT/Python310/lib/site-packages/numpy/core/fromnumeric.py?line=1310'>1311</a>\u001b[0m kwds \u001b[39m=\u001b[39m {\u001b[39m'\u001b[39m\u001b[39mkeepdims\u001b[39m\u001b[39m'\u001b[39m: keepdims} \u001b[39mif\u001b[39;00m keepdims \u001b[39mis\u001b[39;00m \u001b[39mnot\u001b[39;00m np\u001b[39m.\u001b[39m_NoValue \u001b[39melse\u001b[39;00m {}\n\u001b[1;32m-> <a href='file:///g%3A/CNTT/Python310/lib/site-packages/numpy/core/fromnumeric.py?line=1311'>1312</a>\u001b[0m \u001b[39mreturn\u001b[39;00m _wrapfunc(a, \u001b[39m'\u001b[39m\u001b[39margmin\u001b[39m\u001b[39m'\u001b[39m, axis\u001b[39m=\u001b[39maxis, out\u001b[39m=\u001b[39mout, \u001b[39m*\u001b[39m\u001b[39m*\u001b[39mkwds)\n",
      "File \u001b[1;32mG:\\CNTT\\Python310\\lib\\site-packages\\numpy\\core\\fromnumeric.py:57\u001b[0m, in \u001b[0;36m_wrapfunc\u001b[1;34m(obj, method, *args, **kwds)\u001b[0m\n\u001b[0;32m     <a href='file:///g%3A/CNTT/Python310/lib/site-packages/numpy/core/fromnumeric.py?line=53'>54</a>\u001b[0m     \u001b[39mreturn\u001b[39;00m _wrapit(obj, method, \u001b[39m*\u001b[39margs, \u001b[39m*\u001b[39m\u001b[39m*\u001b[39mkwds)\n\u001b[0;32m     <a href='file:///g%3A/CNTT/Python310/lib/site-packages/numpy/core/fromnumeric.py?line=55'>56</a>\u001b[0m \u001b[39mtry\u001b[39;00m:\n\u001b[1;32m---> <a href='file:///g%3A/CNTT/Python310/lib/site-packages/numpy/core/fromnumeric.py?line=56'>57</a>\u001b[0m     \u001b[39mreturn\u001b[39;00m bound(\u001b[39m*\u001b[39margs, \u001b[39m*\u001b[39m\u001b[39m*\u001b[39mkwds)\n\u001b[0;32m     <a href='file:///g%3A/CNTT/Python310/lib/site-packages/numpy/core/fromnumeric.py?line=57'>58</a>\u001b[0m \u001b[39mexcept\u001b[39;00m \u001b[39mTypeError\u001b[39;00m:\n\u001b[0;32m     <a href='file:///g%3A/CNTT/Python310/lib/site-packages/numpy/core/fromnumeric.py?line=58'>59</a>\u001b[0m     \u001b[39m# A TypeError occurs if the object does have such a method in its\u001b[39;00m\n\u001b[0;32m     <a href='file:///g%3A/CNTT/Python310/lib/site-packages/numpy/core/fromnumeric.py?line=59'>60</a>\u001b[0m     \u001b[39m# class, but its signature is not identical to that of NumPy's. This\u001b[39;00m\n\u001b[1;32m   (...)\u001b[0m\n\u001b[0;32m     <a href='file:///g%3A/CNTT/Python310/lib/site-packages/numpy/core/fromnumeric.py?line=63'>64</a>\u001b[0m     \u001b[39m# Call _wrapit from within the except clause to ensure a potential\u001b[39;00m\n\u001b[0;32m     <a href='file:///g%3A/CNTT/Python310/lib/site-packages/numpy/core/fromnumeric.py?line=64'>65</a>\u001b[0m     \u001b[39m# exception has a traceback chain.\u001b[39;00m\n\u001b[0;32m     <a href='file:///g%3A/CNTT/Python310/lib/site-packages/numpy/core/fromnumeric.py?line=65'>66</a>\u001b[0m     \u001b[39mreturn\u001b[39;00m _wrapit(obj, method, \u001b[39m*\u001b[39margs, \u001b[39m*\u001b[39m\u001b[39m*\u001b[39mkwds)\n",
      "\u001b[1;31mKeyboardInterrupt\u001b[0m: "
     ]
    }
   ],
   "source": [
    "run_knn(X_train, y_train, X_test, y_test)"
   ]
  }
 ],
 "metadata": {
  "interpreter": {
   "hash": "925c48296191328fd63282b32f31d58366fe2156a0e6251ae4d08cd1c8bc0f76"
  },
  "kernelspec": {
   "display_name": "Python 3.10.4 64-bit",
   "language": "python",
   "name": "python3"
  },
  "language_info": {
   "codemirror_mode": {
    "name": "ipython",
    "version": 3
   },
   "file_extension": ".py",
   "mimetype": "text/x-python",
   "name": "python",
   "nbconvert_exporter": "python",
   "pygments_lexer": "ipython3",
   "version": "3.10.4"
  },
  "orig_nbformat": 4
 },
 "nbformat": 4,
 "nbformat_minor": 2
}
