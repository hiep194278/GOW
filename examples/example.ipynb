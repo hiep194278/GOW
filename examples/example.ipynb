{
 "cells": [
  {
   "cell_type": "code",
   "execution_count": 1,
   "metadata": {},
   "outputs": [],
   "source": [
    "import sys\n",
    "sys.path.append('../src')\n",
    "from gow.utilities import load_human_action_dataset, load_ucr_dataset, run_knn\n",
    "from gow import gow_sinkhorn_autoscale, gow_sinkhorn, gow_sinkhorn_autoscale_fixed\n",
    "import numpy as np\n",
    "from ot import dist"
   ]
  },
  {
   "cell_type": "code",
   "execution_count": null,
   "metadata": {},
   "outputs": [],
   "source": [
    "# Get UCR train and test sets\n",
    "X_train, y_train, X_test, y_test = load_ucr_dataset(\"../data/UCR\", \"Chinatown\")\n",
    "\n",
    "seq1 = X_test[2]\n",
    "seq2 = X_train[3]\n",
    "\n",
    "# Compute the initial cost matrix\n",
    "D = dist(seq1, seq2)\n",
    "D = D / D.max()\n",
    "\n",
    "# Distance returned by GOW\n",
    "gow_sinkhorn_autoscale([], [], D)"
   ]
  },
  {
   "cell_type": "code",
   "execution_count": null,
   "metadata": {},
   "outputs": [],
   "source": [
    "# Run k-NN classifier with default k values of 1, 3 and 5\n",
    "run_knn(X_train, y_train, X_test, y_test)"
   ]
  }
 ],
 "metadata": {
  "interpreter": {
   "hash": "925c48296191328fd63282b32f31d58366fe2156a0e6251ae4d08cd1c8bc0f76"
  },
  "kernelspec": {
   "display_name": "Python 3.10.4 64-bit",
   "language": "python",
   "name": "python3"
  },
  "language_info": {
   "codemirror_mode": {
    "name": "ipython",
    "version": 3
   },
   "file_extension": ".py",
   "mimetype": "text/x-python",
   "name": "python",
   "nbconvert_exporter": "python",
   "pygments_lexer": "ipython3",
   "version": "3.10.4"
  },
  "orig_nbformat": 4
 },
 "nbformat": 4,
 "nbformat_minor": 2
}
