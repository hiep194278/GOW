{
 "cells": [
  {
   "cell_type": "code",
   "execution_count": 1,
   "metadata": {},
   "outputs": [],
   "source": [
    "import numpy as np\n",
    "import joblib\n",
    "import sys\n",
    "np.set_printoptions(threshold=sys.maxsize)\n",
    "import os"
   ]
  },
  {
   "cell_type": "markdown",
   "metadata": {},
   "source": [
    "# MSR Action 3D"
   ]
  },
  {
   "cell_type": "code",
   "execution_count": 2,
   "metadata": {},
   "outputs": [],
   "source": [
    "X_train = joblib.load('MSRAction3D/X_train.pkl')\n",
    "X_test = joblib.load('MSRAction3D/X_test.pkl')\n",
    "y_train = joblib.load('MSRAction3D/y_train.pkl')\n",
    "y_test = joblib.load('MSRAction3D/y_test.pkl')"
   ]
  },
  {
   "cell_type": "code",
   "execution_count": 3,
   "metadata": {},
   "outputs": [
    {
     "name": "stdout",
     "output_type": "stream",
     "text": [
      "Train size: 270\n",
      "Test size: 297\n"
     ]
    }
   ],
   "source": [
    "assert len(X_train) == len(y_train)\n",
    "assert len(X_test) == len(y_test)\n",
    "print('Train size:', len(X_train))\n",
    "print('Test size:', len(X_test))\n",
    "# 4 hours"
   ]
  },
  {
   "cell_type": "code",
   "execution_count": 4,
   "metadata": {},
   "outputs": [
    {
     "data": {
      "text/plain": [
       "{1: 12,\n",
       " 2: 12,\n",
       " 3: 12,\n",
       " 4: 11,\n",
       " 5: 12,\n",
       " 6: 12,\n",
       " 7: 14,\n",
       " 8: 15,\n",
       " 9: 15,\n",
       " 10: 15,\n",
       " 11: 15,\n",
       " 12: 15,\n",
       " 13: 15,\n",
       " 14: 15,\n",
       " 15: 5,\n",
       " 16: 15,\n",
       " 17: 15,\n",
       " 18: 15,\n",
       " 19: 15,\n",
       " 20: 15}"
      ]
     },
     "execution_count": 4,
     "metadata": {},
     "output_type": "execute_result"
    }
   ],
   "source": [
    "unique, counts = np.unique(y_train, return_counts=True)\n",
    "dict(zip(unique, counts))"
   ]
  },
  {
   "cell_type": "code",
   "execution_count": 5,
   "metadata": {},
   "outputs": [
    {
     "data": {
      "text/plain": [
       "{1: 15,\n",
       " 2: 15,\n",
       " 3: 15,\n",
       " 4: 15,\n",
       " 5: 14,\n",
       " 6: 14,\n",
       " 7: 14,\n",
       " 8: 15,\n",
       " 9: 15,\n",
       " 10: 15,\n",
       " 11: 15,\n",
       " 12: 15,\n",
       " 13: 15,\n",
       " 14: 15,\n",
       " 15: 15,\n",
       " 16: 15,\n",
       " 17: 15,\n",
       " 18: 15,\n",
       " 19: 15,\n",
       " 20: 15}"
      ]
     },
     "execution_count": 5,
     "metadata": {},
     "output_type": "execute_result"
    }
   ],
   "source": [
    "unique, counts = np.unique(y_test, return_counts=True)\n",
    "dict(zip(unique, counts))"
   ]
  },
  {
   "cell_type": "markdown",
   "metadata": {},
   "source": [
    "# MSR Daily Activity 3D"
   ]
  },
  {
   "cell_type": "code",
   "execution_count": 6,
   "metadata": {},
   "outputs": [],
   "source": [
    "X_train = joblib.load('MSRDailyActivity3D/X_train.pkl')\n",
    "X_test = joblib.load('MSRDailyActivity3D/X_test.pkl')\n",
    "y_train = joblib.load('MSRDailyActivity3D/y_train.pkl')\n",
    "y_test = joblib.load('MSRDailyActivity3D/y_test.pkl')"
   ]
  },
  {
   "cell_type": "code",
   "execution_count": 7,
   "metadata": {},
   "outputs": [
    {
     "name": "stdout",
     "output_type": "stream",
     "text": [
      "Train size: 160\n",
      "Test size: 160\n"
     ]
    }
   ],
   "source": [
    "assert len(X_train) == len(y_train)\n",
    "assert len(X_test) == len(y_test)\n",
    "print('Train size:', len(X_train))\n",
    "print('Test size:', len(X_test))\n",
    "# 5 hours"
   ]
  },
  {
   "cell_type": "code",
   "execution_count": 8,
   "metadata": {},
   "outputs": [
    {
     "data": {
      "text/plain": [
       "{1: 10,\n",
       " 2: 10,\n",
       " 3: 10,\n",
       " 4: 10,\n",
       " 5: 10,\n",
       " 6: 10,\n",
       " 7: 10,\n",
       " 8: 10,\n",
       " 9: 10,\n",
       " 10: 10,\n",
       " 11: 10,\n",
       " 12: 10,\n",
       " 13: 10,\n",
       " 14: 10,\n",
       " 15: 10,\n",
       " 16: 10}"
      ]
     },
     "execution_count": 8,
     "metadata": {},
     "output_type": "execute_result"
    }
   ],
   "source": [
    "unique, counts = np.unique(y_train, return_counts=True)\n",
    "dict(zip(unique, counts))"
   ]
  },
  {
   "cell_type": "code",
   "execution_count": 9,
   "metadata": {},
   "outputs": [
    {
     "data": {
      "text/plain": [
       "{1: 10,\n",
       " 2: 10,\n",
       " 3: 10,\n",
       " 4: 10,\n",
       " 5: 10,\n",
       " 6: 10,\n",
       " 7: 10,\n",
       " 8: 10,\n",
       " 9: 10,\n",
       " 10: 10,\n",
       " 11: 10,\n",
       " 12: 10,\n",
       " 13: 10,\n",
       " 14: 10,\n",
       " 15: 10,\n",
       " 16: 10}"
      ]
     },
     "execution_count": 9,
     "metadata": {},
     "output_type": "execute_result"
    }
   ],
   "source": [
    "unique, counts = np.unique(y_test, return_counts=True)\n",
    "dict(zip(unique, counts))"
   ]
  },
  {
   "cell_type": "markdown",
   "metadata": {},
   "source": [
    "# Spoken Arabic Digit"
   ]
  },
  {
   "cell_type": "code",
   "execution_count": 10,
   "metadata": {},
   "outputs": [],
   "source": [
    "X_train = joblib.load('SpokenArabicDigit/X_train.pkl')\n",
    "X_test = joblib.load('SpokenArabicDigit/X_test.pkl')\n",
    "y_train = joblib.load('SpokenArabicDigit/y_train.pkl')\n",
    "y_test = joblib.load('SpokenArabicDigit/y_test.pkl')"
   ]
  },
  {
   "cell_type": "code",
   "execution_count": 11,
   "metadata": {},
   "outputs": [
    {
     "name": "stdout",
     "output_type": "stream",
     "text": [
      "Train size: 6600\n",
      "Test size: 2200\n"
     ]
    }
   ],
   "source": [
    "assert len(X_train) == len(y_train)\n",
    "assert len(X_test) == len(y_test)\n",
    "print('Train size:', len(X_train))\n",
    "print('Test size:', len(X_test))"
   ]
  },
  {
   "cell_type": "code",
   "execution_count": 12,
   "metadata": {},
   "outputs": [
    {
     "data": {
      "text/plain": [
       "{0: 660,\n",
       " 1: 660,\n",
       " 2: 660,\n",
       " 3: 660,\n",
       " 4: 660,\n",
       " 5: 660,\n",
       " 6: 660,\n",
       " 7: 660,\n",
       " 8: 660,\n",
       " 9: 660}"
      ]
     },
     "execution_count": 12,
     "metadata": {},
     "output_type": "execute_result"
    }
   ],
   "source": [
    "unique, counts = np.unique(y_train, return_counts=True)\n",
    "dict(zip(unique, counts))"
   ]
  },
  {
   "cell_type": "code",
   "execution_count": 13,
   "metadata": {},
   "outputs": [
    {
     "data": {
      "text/plain": [
       "{0: 220,\n",
       " 1: 220,\n",
       " 2: 220,\n",
       " 3: 220,\n",
       " 4: 220,\n",
       " 5: 220,\n",
       " 6: 220,\n",
       " 7: 220,\n",
       " 8: 220,\n",
       " 9: 220}"
      ]
     },
     "execution_count": 13,
     "metadata": {},
     "output_type": "execute_result"
    }
   ],
   "source": [
    "unique, counts = np.unique(y_test, return_counts=True)\n",
    "dict(zip(unique, counts))"
   ]
  },
  {
   "cell_type": "markdown",
   "metadata": {},
   "source": [
    "# Spoken Arabic Digit - Cut"
   ]
  },
  {
   "cell_type": "code",
   "execution_count": 14,
   "metadata": {},
   "outputs": [],
   "source": [
    "X_train = joblib.load('SpokenArabicDigit/Cut/X_train.pkl')\n",
    "X_test = joblib.load('SpokenArabicDigit/Cut/X_test.pkl')\n",
    "y_train = joblib.load('SpokenArabicDigit/Cut/y_train.pkl')\n",
    "y_test = joblib.load('SpokenArabicDigit/Cut/y_test.pkl')"
   ]
  },
  {
   "cell_type": "code",
   "execution_count": 15,
   "metadata": {},
   "outputs": [
    {
     "name": "stdout",
     "output_type": "stream",
     "text": [
      "Train size: 330\n",
      "Test size: 110\n"
     ]
    }
   ],
   "source": [
    "assert len(X_train) == len(y_train)\n",
    "assert len(X_test) == len(y_test)\n",
    "print('Train size:', len(X_train))\n",
    "print('Test size:', len(X_test))"
   ]
  },
  {
   "cell_type": "code",
   "execution_count": 16,
   "metadata": {},
   "outputs": [
    {
     "data": {
      "text/plain": [
       "{0: 33, 1: 33, 2: 33, 3: 33, 4: 33, 5: 33, 6: 33, 7: 33, 8: 33, 9: 33}"
      ]
     },
     "execution_count": 16,
     "metadata": {},
     "output_type": "execute_result"
    }
   ],
   "source": [
    "unique, counts = np.unique(y_train, return_counts=True)\n",
    "dict(zip(unique, counts))"
   ]
  },
  {
   "cell_type": "code",
   "execution_count": 17,
   "metadata": {},
   "outputs": [
    {
     "data": {
      "text/plain": [
       "{0: 11, 1: 11, 2: 11, 3: 11, 4: 11, 5: 11, 6: 11, 7: 11, 8: 11, 9: 11}"
      ]
     },
     "execution_count": 17,
     "metadata": {},
     "output_type": "execute_result"
    }
   ],
   "source": [
    "unique, counts = np.unique(y_test, return_counts=True)\n",
    "dict(zip(unique, counts))"
   ]
  },
  {
   "cell_type": "markdown",
   "metadata": {},
   "source": [
    "# Weizmann - Binary"
   ]
  },
  {
   "cell_type": "code",
   "execution_count": 18,
   "metadata": {},
   "outputs": [],
   "source": [
    "X_train = joblib.load('Weizmann/X_train.pkl')\n",
    "X_test = joblib.load('Weizmann/X_test.pkl')\n",
    "y_train = joblib.load('Weizmann/y_train.pkl')\n",
    "y_test = joblib.load('Weizmann/y_test.pkl')"
   ]
  },
  {
   "cell_type": "code",
   "execution_count": 19,
   "metadata": {},
   "outputs": [
    {
     "name": "stdout",
     "output_type": "stream",
     "text": [
      "Train size: 40\n",
      "Test size: 40\n"
     ]
    }
   ],
   "source": [
    "assert len(X_train) == len(y_train)\n",
    "assert len(X_test) == len(y_test)\n",
    "print('Train size:', len(X_train))\n",
    "print('Test size:', len(X_test))"
   ]
  },
  {
   "cell_type": "code",
   "execution_count": 20,
   "metadata": {},
   "outputs": [
    {
     "data": {
      "text/plain": [
       "{'bend': 4,\n",
       " 'jack': 4,\n",
       " 'jump': 4,\n",
       " 'pjump': 4,\n",
       " 'run': 4,\n",
       " 'side': 4,\n",
       " 'skip': 4,\n",
       " 'walk': 4,\n",
       " 'wave1': 4,\n",
       " 'wave2': 4}"
      ]
     },
     "execution_count": 20,
     "metadata": {},
     "output_type": "execute_result"
    }
   ],
   "source": [
    "unique, counts = np.unique(y_train, return_counts=True)\n",
    "dict(zip(unique, counts))"
   ]
  },
  {
   "cell_type": "code",
   "execution_count": 21,
   "metadata": {},
   "outputs": [
    {
     "data": {
      "text/plain": [
       "{'bend': 4,\n",
       " 'jack': 4,\n",
       " 'jump': 4,\n",
       " 'pjump': 4,\n",
       " 'run': 4,\n",
       " 'side': 4,\n",
       " 'skip': 4,\n",
       " 'walk': 4,\n",
       " 'wave1': 4,\n",
       " 'wave2': 4}"
      ]
     },
     "execution_count": 21,
     "metadata": {},
     "output_type": "execute_result"
    }
   ],
   "source": [
    "unique, counts = np.unique(y_test, return_counts=True)\n",
    "dict(zip(unique, counts))"
   ]
  }
 ],
 "metadata": {
  "interpreter": {
   "hash": "925c48296191328fd63282b32f31d58366fe2156a0e6251ae4d08cd1c8bc0f76"
  },
  "kernelspec": {
   "display_name": "Python 3.10.4 64-bit",
   "language": "python",
   "name": "python3"
  },
  "language_info": {
   "codemirror_mode": {
    "name": "ipython",
    "version": 3
   },
   "file_extension": ".py",
   "mimetype": "text/x-python",
   "name": "python",
   "nbconvert_exporter": "python",
   "pygments_lexer": "ipython3",
   "version": "3.10.4"
  },
  "orig_nbformat": 4
 },
 "nbformat": 4,
 "nbformat_minor": 2
}
